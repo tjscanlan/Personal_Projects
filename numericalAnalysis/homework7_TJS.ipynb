{
  "cells": [
    {
      "cell_type": "markdown",
      "metadata": {
        "id": "tzMXAmD7zdOz"
      },
      "source": [
        "# **Homework 7: Iterative Methods for Linear Algebra**\n",
        "\n",
        "Read sections 4.4 and 4.7, and answer the following five problems. [Problems modified from the [online text](https://numericalmethodssullivan.github.io/ch-linearalgebra.html#applying-what-youve-learned-3)]\n",
        "\n",
        "For all problems Python code is expected; handwritten work is not required."
      ]
    },
    {
      "cell_type": "code",
      "execution_count": 2,
      "metadata": {
        "id": "z3bhGkEczcIQ"
      },
      "outputs": [],
      "source": [
        "import numpy as np\n",
        "from tabulate import tabulate\n",
        "from time import time\n",
        "from scipy.linalg import lu_factor, lu_solve, lu"
      ]
    },
    {
      "cell_type": "markdown",
      "metadata": {
        "id": "_uDIxqXwutFS"
      },
      "source": [
        "# Python functions for iterative methods"
      ]
    },
    {
      "cell_type": "code",
      "execution_count": 3,
      "metadata": {
        "id": "hSBVJaUWu0TA"
      },
      "outputs": [],
      "source": [
        "def jacobi(A, b, x0, numIter):\n",
        "  # Inputs: A - numpy array (nxn)\n",
        "  #         b - numpy array (nx1)\n",
        "  #         x0 - initial vector (nx1)\n",
        "  #         numIter - number of iterations (scalar)\n",
        "  xk = x0.copy()\n",
        "  for i in range (numIter):\n",
        "    xprev = xk\n",
        "    for j in range(len(xk)):\n",
        "      LplusD_row = A[j,:].copy()\n",
        "      LplusD_row[j] = 0\n",
        "      xk[j] = ( b[j] - np.dot(LplusD_row,xprev) )/A[j,j]\n",
        "  return xk\n",
        "\n",
        "def gauss_seidel(A, b, x0, numIter):\n",
        "  # Inputs: A - numpy array (nxn)\n",
        "  #         b - numpy array (nx1)\n",
        "  #         x0 - initial vector (nx1)\n",
        "  #         numIter - number of iterations (scalar)\n",
        "  xk = x0.copy()\n",
        "  L = np.tril(A) - np.diag(np.diag(A))\n",
        "  U = np.triu(A) - np.diag(np.diag(A))\n",
        "  n = len(xk)\n",
        "  for k in range(numIter):\n",
        "    xprev = xk\n",
        "    for j in range(n):\n",
        "      xk[j] = ( b[j] - np.dot(U[j,:],xprev) - np.dot(L[j,:],xk))/A[j,j]\n",
        "  return xk\n",
        "\n",
        "def SOR(A, b, x0, omega, numIter):\n",
        "  # Inputs: A - numpy array (nxn)\n",
        "  #         b - numpy array (nx1)\n",
        "  #         x0 - initial vector (nx1)\n",
        "  #         numIter - number of iterations (scalar)\n",
        "  xk = x0.copy()\n",
        "  L = np.tril(A) - np.diag(np.diag(A))\n",
        "  U = np.triu(A) - np.diag(np.diag(A))\n",
        "  D = np.diag(np.diag(A))\n",
        "  inv = np.linalg.inv(omega*L+D)\n",
        "  for i in range(numIter):\n",
        "    xprev = xk\n",
        "    xk = inv @ ( ((1-omega)*D-omega*U) @ xk) + omega * inv @ b\n",
        "  return xk"
      ]
    },
    {
      "cell_type": "markdown",
      "metadata": {
        "id": "yoPF_0GTzmra"
      },
      "source": [
        "# Problem 1\n",
        "*Exercise 4.91: Application of the power method on a stochastic matrix -- Markov chains*\n",
        "\n",
        "(This concept for this problem is modified from [6]. The data is taken from NOAA and the National Weather Service with the specific values associated with La Crosse, WI.)\n",
        "\n",
        "Floods in the Mississippi River Valleys of the upper midwest have somewhat predictable day-to-day behavior in that the flood stage today has high predictive power for the flood stage tomorrow. Assume that the flood stages are:\n",
        "\n",
        "* Stage 0 (Normal): Average daily flow is below 90,000 $\\mathrm{ft}^3$ (cubic feet per second = cfs). This is the normal river level.\n",
        "\n",
        "* Stage 1 (Action Level): Average daily flow is between 90,000 cfs and 124,000 cfs.\n",
        "\n",
        "* Stage 2 (Minor Flood): Average daily flow is between 124,000 cfs and 146,000 cfs.\n",
        "\n",
        "* Stage 3 (Moderate Flood): Average daily flow is between 146,000 cfs and 170,000 cfs.\n",
        "\n",
        "* Stage 4 (Extreme Flood): Average daily flow is above 170,000 cfs.\n",
        "\n",
        "The table below shows the contents of an array with the probabilities of one stage transitioning into another stage from one day to the next."
      ]
    },
    {
      "cell_type": "code",
      "execution_count": 4,
      "metadata": {
        "colab": {
          "base_uri": "https://localhost:8080/"
        },
        "id": "oJSFDLFWzrqm",
        "outputId": "3a4b36d2-5285-49fa-8438-f182209d2393"
      },
      "outputs": [
        {
          "name": "stdout",
          "output_type": "stream",
          "text": [
            "Stage                       Stage 0    Stage 1    Stage 2    Stage 3    Stage 4\n",
            "------------------------  ---------  ---------  ---------  ---------  ---------\n",
            "Stage 0 (Normal)              0.900      0.300      0.000      0.000      0.000\n",
            "Stage 1 (Action Level)        0.050      0.700      0.400      0.000      0.000\n",
            "Stage 2 (Minor Flood)         0.025      0.000      0.600      0.600      0.000\n",
            "Stage 3 (Moderate Flood)      0.150      0.000      0.000      0.400      0.800\n",
            "Stage 4 (Extreme Flood)       0.010      0.000      0.000      0.000      0.200\n"
          ]
        }
      ],
      "source": [
        "data = [\n",
        "    [\"Stage 0 (Normal)\", 0.9, 0.3, 0, 0, 0],\n",
        "    [\"Stage 1 (Action Level)\", 0.05, 0.7, 0.4, 0, 0],\n",
        "    [\"Stage 2 (Minor Flood)\", 0.025, 0, 0.6, 0.6, 0],\n",
        "    [\"Stage 3 (Moderate Flood)\", 0.15, 0, 0, 0.4, 0.8],\n",
        "    [\"Stage 4 (Extreme Flood)\", 0.01, 0, 0, 0, 0.2]\n",
        "]\n",
        "print(tabulate(data, headers=[\"Stage\",\"Stage 0\", \"Stage 1\", \"Stage 2\", \"Stage 3\", \"Stage 4\"],floatfmt=\".3f\"))"
      ]
    },
    {
      "cell_type": "markdown",
      "metadata": {
        "id": "_uD52YoTukKv"
      },
      "source": [
        "Mathematically, if $s_k$ is the state at day $k$ and $A$ is the array given in the table above then the difference equation  \n",
        "\n",
        "$$\\mathbf{s}_{k+1} = A\\mathbf{s}_k$$\n",
        "\n",
        "shows how a state will transition from day to day. For example, if we are currently in Stage 0 then $\\mathbf{s}_0 = (1, 0, 0, 0, 0)$.\n",
        "We can interpret this as “there is a probability of 1 that we are in Stage 0 today and there is a probability of 0 that we are in any other stage today.”\n",
        "\n",
        "If we want to advance this model forward in time then we just need to iterate. In our example, the state tomorrow would be $\\mathbf{s}_1 = A\\mathbf{s}_0$. The state two days from now would be $\\mathbf{s}_2 = A\\mathbf{s}_1 = A(A\\mathbf{s}_0) = A^2 \\mathbf{s}_0$."
      ]
    },
    {
      "cell_type": "markdown",
      "metadata": {
        "id": "GJG4A4AJx-Qx"
      },
      "source": [
        "(a) Show that the state at day $n$ is $\\mathbf{s}_n = A^n \\mathbf{s}_0$."
      ]
    },
    {
      "cell_type": "code",
      "execution_count": 5,
      "metadata": {
        "colab": {
          "base_uri": "https://localhost:8080/"
        },
        "id": "KL-WSquDx9yU",
        "outputId": "eb7a3210-8a41-4a05-8f22-cf9cb83b23a0"
      },
      "outputs": [
        {
          "name": "stdout",
          "output_type": "stream",
          "text": [
            "A = \n",
            " [[0.9   0.3   0.    0.    0.   ]\n",
            " [0.05  0.7   0.4   0.    0.   ]\n",
            " [0.025 0.    0.6   0.6   0.   ]\n",
            " [0.15  0.    0.    0.4   0.8  ]\n",
            " [0.01  0.    0.    0.    0.2  ]]\n",
            "s_0 =  [1 0 0 0 0]\n"
          ]
        }
      ],
      "source": [
        "A = np.zeros((5, 5))\n",
        "for i in range(5):\n",
        "  A[i][:] = data[i][1:]\n",
        "print(\"A = \\n\", A)\n",
        "s0 = np.array([1, 0, 0, 0, 0])\n",
        "print(\"s_0 = \", s0)"
      ]
    },
    {
      "cell_type": "markdown",
      "metadata": {
        "id": "6Yx-kkW7uQcG"
      },
      "source": [
        "(b) If $n$ is large then the steady state solution to the difference equation in part (a) is given exactly by the power method iteration that we have studied in this chapter. Hence, as the iterations proceed they will be pulled toward the dominant eigenvector. Use the power method to find the dominant eigenvector of the matrix $A$."
      ]
    },
    {
      "cell_type": "code",
      "execution_count": 6,
      "metadata": {
        "id": "ELCR_ZZZuVAW"
      },
      "outputs": [
        {
          "name": "stdout",
          "output_type": "stream",
          "text": [
            "[1.         0.54170154 0.36593119 0.24041167 0.01159406]\n"
          ]
        }
      ],
      "source": [
        "xk = s0.copy()\n",
        "for i in range(50):\n",
        "  xk = A @ xk\n",
        "  mu = np.amax(xk)\n",
        "  xk = xk/mu\n",
        "print(xk)"
      ]
    },
    {
      "cell_type": "markdown",
      "metadata": {
        "id": "x_uNoriyuVpi"
      },
      "source": [
        "(c) The vectors in this problem are called probability vectors in the sense that the vectors sum to 1 and every entry can be interpreted as a probability. Re-scale your answer from part (b) so that we can interpret the entries as probabilities. That is, ensure that the sum of the vector from part (b) is 1."
      ]
    },
    {
      "cell_type": "code",
      "execution_count": 7,
      "metadata": {
        "id": "0Ea8ADjfuYci"
      },
      "outputs": [
        {
          "name": "stdout",
          "output_type": "stream",
          "text": [
            "[0.46304046 0.25082973 0.16944095 0.11132033 0.00536852]\n",
            "1.0\n"
          ]
        }
      ],
      "source": [
        "sn = xk/(np.linalg.norm(xk,1))\n",
        "print(sn)\n",
        "print(np.sum(sn))"
      ]
    },
    {
      "cell_type": "markdown",
      "metadata": {
        "id": "i5SfBX8wuZMA"
      },
      "source": [
        "(d) Interpret your answer to part (c) in the context of the problem. Be sure that your interpretation could be well understood by someone that does not know the mathematics that you just did."
      ]
    },
    {
      "cell_type": "markdown",
      "metadata": {
        "id": "eNF2s5ubucM7"
      },
      "source": [
        "*Ans:*"
      ]
    },
    {
      "cell_type": "markdown",
      "metadata": {
        "id": "XM-DE_BBzsR8"
      },
      "source": [
        "# Problem 2\n",
        "\n",
        "*Modified Exercise 4.80: Error in LU for large random matrices*\n",
        "\n",
        "For this problem we are going to run a numerical experiment to see how the process of solving the equation $A\\mathbf{x}=\\mathbf{b}$ using the $LU$ factorization performs on random coefficient matrices $A$ and random right-hand sides $\\mathbf{b}$. We will compare against Python’s algorithm for solving linear systems.\n",
        "\n",
        "(a) Create a loop that does the following:\n",
        "\n",
        "1. Loop over the size of the matrix ($n$). \n",
        "\n",
        "2. Build a random matrix $A$ of size $n\\times n$. You can do this with the code A = np.array( np.random.randn(n,n) )\n",
        "\n",
        "3. Build a random vector $\\mathbf{b}$ in $\\mathbb{R}^n$. You can do this with the code b = np.array( np.random.randn(n,1) )\n",
        "\n",
        "4. Find Python’s answer to the problem $A\\mathbf{x}=\\mathbf{b}$ using the command exact = np.linalg.solve(A,b)\n",
        "\n",
        "5. Write code that uses your three $LU$ functions (myLU, lsolve, usolve) to find a solution to the equation $A\\mathbf{x}=\\mathbf{b}$.\n",
        "\n",
        "6. Find the error between your answer and the exact answer using the code np.linalg.norm(x - exact)"
      ]
    },
    {
      "cell_type": "code",
      "execution_count": null,
      "metadata": {
        "id": "_3NMdNoezu6S"
      },
      "outputs": [],
      "source": []
    },
    {
      "cell_type": "markdown",
      "metadata": {
        "id": "rGbO9w66BEwZ"
      },
      "source": [
        "(b) Make a plot (plt.semilogy()) that shows how the error behaves as the size of the problem changes. You should run this for matrices of larger and larger size but be warned that the loop will run for quite a long time if you go above $300 \\times 300$ matrices. Just be patient."
      ]
    },
    {
      "cell_type": "code",
      "execution_count": null,
      "metadata": {
        "id": "fVBLOFuTBEZS"
      },
      "outputs": [],
      "source": []
    },
    {
      "cell_type": "markdown",
      "metadata": {
        "id": "OOpqwjNvA_8b"
      },
      "source": [
        "(c) Conclusions: What do you notice in your final plot. What does this tell you about the behavior of our $LU$ decomposition code?"
      ]
    },
    {
      "cell_type": "markdown",
      "metadata": {
        "id": "F5zj7t7BBG3r"
      },
      "source": [
        "*Ans:*"
      ]
    },
    {
      "cell_type": "markdown",
      "metadata": {
        "id": "N_mUGu0Rzvlg"
      },
      "source": [
        "## Problem 3\n",
        "\n",
        "*Compute time for direct and iterative methods*\n",
        "\n",
        "Compare the time required to implement the direct and iterative methods we've covered: built-in methods, PLU factorization, and Jacobi, Gauss-Seidel, and SOR iteration, using a tri-diagonal (strictly diagonally dominant) matrix $A$ and random vector $\\mathbf{b}$.\n",
        "\n",
        "For each method, determine the computational time required for implementation of each algorithm with the time class."
      ]
    },
    {
      "cell_type": "code",
      "execution_count": 8,
      "metadata": {
        "id": "GCNVz-Ezzzo4"
      },
      "outputs": [
        {
          "name": "stdout",
          "output_type": "stream",
          "text": [
            "Method               Compute Time (s)\n",
            "-----------------  ------------------\n",
            "Jacobi                        2.31379\n",
            "Gauss-Seidel                  7.38973\n",
            "PLU factorization            12.5296\n",
            "Built-in solver              10.3168\n"
          ]
        }
      ],
      "source": [
        "n = 10000\n",
        "A = np.diag(3*np.ones(n))\n",
        "A += np.diag(-1*np.ones(n-1), k=1)\n",
        "A += np.diag(-1*np.ones(n-1), k=-1)\n",
        "b = np.array(np.random.randn(n,1))\n",
        "x0 = np.zeros(n)\n",
        "numIter = 10\n",
        "omega = 2\n",
        "\n",
        "results = []\n",
        "\n",
        "start = time()\n",
        "soln = jacobi(A, b, x0, numIter)\n",
        "computeTime = time() - start\n",
        "results.append([\"Jacobi\", computeTime])\n",
        "\n",
        "start = time()\n",
        "soln = gauss_seidel(A, b, x0, numIter)\n",
        "computeTime = time() - start\n",
        "results.append([\"Gauss-Seidel\", computeTime])\n",
        "\n",
        "start = time()\n",
        "soln = lu_solve(lu_factor(A),b)\n",
        "computeTime = time() - start\n",
        "results.append([\"PLU factorization\", computeTime])\n",
        "\n",
        "start = time()\n",
        "soln = np.linalg.solve(A,b)\n",
        "computeTime = time() - start\n",
        "results.append([\"Built-in solver\", computeTime])\n",
        "\n",
        "print(tabulate(results, headers=[\"Method\", \"Compute Time (s)\"]))"
      ]
    },
    {
      "cell_type": "markdown",
      "metadata": {
        "id": "Utz-6ye9z26y"
      },
      "source": [
        "## Problem 4\n",
        "\n",
        "*Modified Exercise 4.86: Implementing the power method*\n",
        "\n",
        "Find the largest eigenvalue and corresponding eigenvector of $A$ using the power method.\n",
        "\n",
        "$$ A = \\begin{bmatrix} 1 & 2 & 3 & 4 \\\\ 5 & 6 & 7 & 8 \\\\ 9 & 0 & 1 & 2 \\\\ 3 & 4 & 5 & 6 \\end{bmatrix} $$"
      ]
    },
    {
      "cell_type": "code",
      "execution_count": 10,
      "metadata": {
        "id": "8kBrKZOFz6HW"
      },
      "outputs": [
        {
          "name": "stdout",
          "output_type": "stream",
          "text": [
            "Largest eigenvalue of A:  15.816775028485962\n",
            "Corresponding eigenvector of A:  [0.3894048  1.         0.33030453 0.6947024 ]\n",
            "Largest eigenvalue of A1:  7.000000059474238\n",
            "Corresponding eigenvector of A1:  [1.  0.2]\n"
          ]
        }
      ],
      "source": [
        "A = np.array([1, 2, 3, 4, 5, 6, 7, 8, 9, 0, 1, 2, 3, 4, 5, 6]).reshape((4,4))\n",
        "xk = np.ones(4)\n",
        "\n",
        "for i in range(10):\n",
        "  xk = A @ xk\n",
        "  mu = np.amax(xk)\n",
        "  xk = xk/mu\n",
        "\n",
        "print(\"Largest eigenvalue of A: \", mu)\n",
        "print(\"Corresponding eigenvector of A: \", xk)\n",
        "\n",
        "A1 = np.array([6, 5, 1, 2]).reshape((2, 2))\n",
        "xk1 = np.ones(2)\n",
        "\n",
        "for i in range(10):\n",
        "  xk1 = A1 @ xk1\n",
        "  mu1 = np.amax(xk1)\n",
        "  xk1 = xk1/mu1\n",
        "\n",
        "print(\"Largest eigenvalue of A1: \", mu1)\n",
        "print(\"Corresponding eigenvector of A1: \", xk1)"
      ]
    },
    {
      "cell_type": "markdown",
      "metadata": {
        "id": "swpKr62kz7SH"
      },
      "source": [
        "## Problem 5\n",
        "\n",
        "*Modified Exercise 4.65: Rate of convergence of the power method*\n",
        "\n",
        "Recall that the power method relies on $A$ having a strictly diagonally domainant eigenvalue $\\lambda_1$ such that $|\\lambda_1|< |\\lambda_2| \\leqslant \\cdots \\leqslant |\\lambda_n|$. Then\n",
        "\n",
        "$$\\lim_{k\\to\\infty} \\frac{A^k\\mathbf{x}}{\\lambda_1^k}$$\n",
        "\n",
        "converges to the dominant eigenvector. Estimate the speed of convergence of the power method by calculating the ratio $|\\lambda_2/\\lambda_1|$.\n",
        "\n",
        "(a) Build a $4\\times 4$ matrix $A$ with dominant eigenvalue $\\lambda_1=1$ and all other eigenvalues less than 1 in absolute value. (Hint: To build a matrix with specific eigen-structure use the matrix factorization $A=PDP^{-1}$, where the columns of $P$ contain the eigenvectors of $A$ and the diagonal of $D$ contains the eigenvalues. In this case the $P$ matrix can be random but you need to control the $D$ matrix. Moreover, remember that $\\lambda_3$ and $\\lambda_4$ should be smaller than $\\lambda_2$.)"
      ]
    },
    {
      "cell_type": "code",
      "execution_count": 12,
      "metadata": {
        "id": "du5L7HBwz_w2"
      },
      "outputs": [
        {
          "name": "stdout",
          "output_type": "stream",
          "text": [
            "[[ 2.58372541  0.97000647 -2.15530011  1.34768436]\n",
            " [-1.64164812 -0.16746462  2.02036268 -1.50400233]\n",
            " [ 0.6744252   0.40677532 -0.15384804  0.10213363]\n",
            " [-0.42956629 -0.16491945  0.36758246 -0.01241274]]\n"
          ]
        },
        {
          "data": {
            "text/plain": [
              "(array([1.  , 0.75, 0.3 , 0.2 ]),\n",
              " array([[-0.84755782,  0.05786788,  0.55765721,  0.40897979],\n",
              "        [ 0.35441275,  0.89398837, -0.7800839 , -0.20483141],\n",
              "        [-0.35514638,  0.44418026,  0.06750206,  0.70170404],\n",
              "        [ 0.17294047, -0.01183255, -0.27555584,  0.54625184]]))"
            ]
          },
          "execution_count": 12,
          "metadata": {},
          "output_type": "execute_result"
        }
      ],
      "source": [
        "e_vals = np.array([1, 0.75, 0.3, 0.2])\n",
        "D = np.diag(e_vals)\n",
        "P = np.array(np.random.randn(4, 4))\n",
        "A = P @ D @ np.linalg.inv(P)\n",
        "print(A)\n",
        "np.linalg.eig(A)"
      ]
    },
    {
      "cell_type": "markdown",
      "metadata": {
        "id": "qVSWEwI-ARr5"
      },
      "source": [
        "(b) Then choose several values of $\\lambda_2$ and build an experiment to determine the number of iterations that it takes for the power method to converge to within a pre-determined tolerance to the dominant eigenvector. (Do this for at least five $\\lambda_2$ values.)"
      ]
    },
    {
      "cell_type": "code",
      "execution_count": null,
      "metadata": {
        "id": "NJnf-KlQASmV"
      },
      "outputs": [],
      "source": []
    },
    {
      "cell_type": "markdown",
      "metadata": {
        "id": "9dwKQDCxANrc"
      },
      "source": [
        "(c) In the end you should produce a plot with the ratio $|\\lambda_2/\\lambda_1|$ on the horizontal axis and the number of iterations to converge to a fixed tolerance on the vertical axis. Discuss what you see in your plot."
      ]
    },
    {
      "cell_type": "code",
      "execution_count": null,
      "metadata": {
        "id": "BzPgqPd_AOdq"
      },
      "outputs": [],
      "source": []
    }
  ],
  "metadata": {
    "colab": {
      "provenance": []
    },
    "kernelspec": {
      "display_name": "Python 3",
      "language": "python",
      "name": "python3"
    },
    "language_info": {
      "codemirror_mode": {
        "name": "ipython",
        "version": 3
      },
      "file_extension": ".py",
      "mimetype": "text/x-python",
      "name": "python",
      "nbconvert_exporter": "python",
      "pygments_lexer": "ipython3",
      "version": "3.10.5 (v3.10.5:f377153967, Jun  6 2022, 12:36:10) [Clang 13.0.0 (clang-1300.0.29.30)]"
    },
    "vscode": {
      "interpreter": {
        "hash": "7e1998ff7f8aa20ada591c520b972326324e5ea05489af9e422744c7c09f6dad"
      }
    }
  },
  "nbformat": 4,
  "nbformat_minor": 0
}
