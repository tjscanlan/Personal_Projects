{
 "cells": [
  {
   "attachments": {},
   "cell_type": "markdown",
   "metadata": {},
   "source": [
    "## **Homework 6:** Direct Methods for Linear Systems\n",
    "TJ Scanlan<br>*Merrimack College*<br>*MTH3725 Numerical Analysis*<br>*Spring 2023*"
   ]
  },
  {
   "cell_type": "code",
   "execution_count": 1,
   "metadata": {},
   "outputs": [],
   "source": [
    "#importing np for matrix algebra, scipy for matrix manipulation and system solving\n",
    "import numpy as np\n",
    "from scipy.linalg import lu, lu_factor, lu_solve, hilbert"
   ]
  },
  {
   "attachments": {},
   "cell_type": "markdown",
   "metadata": {},
   "source": [
    "### **Problem 1:** Partial pivoting and finite-digit arithmetic\n",
    "Use Gaussian elimination without partial pivoting, then with partial pivoting, to solve the following system. ***After each intermediate step, round to three decimal places.*** $$ 0.03x_1 + 58.9x_2 = 59.2 $$ $$ 5.31x_1 - 6.10x_2 = 47.0 $$"
   ]
  },
  {
   "cell_type": "code",
   "execution_count": 6,
   "metadata": {},
   "outputs": [
    {
     "name": "stdout",
     "output_type": "stream",
     "text": [
      "[[ 0.03 58.9 ]\n",
      " [ 5.31 -6.1 ]]\n",
      "[[59.2]\n",
      " [47. ]]\n"
     ]
    }
   ],
   "source": [
    "A = np.array([0.03,58.9,5.31,-6.10]).reshape([2,2])\n",
    "b = np.array([59.2,47.0]).reshape([2,1])\n",
    "np.set_printoptions(suppress=True)\n",
    "print(A)\n",
    "print(b)"
   ]
  },
  {
   "attachments": {},
   "cell_type": "markdown",
   "metadata": {},
   "source": [
    "### **Problem 2:** Error and condition numbers\n",
    "Find the relative forward and backward errors and error magnification factors for the following approximations of the system $$ x_1 + 2x_2 = 3 $$ $$ 2x_1 + 4.01x_2 = 6.01 $$\n",
    "a) [-10, 6] <br>\n",
    "b) [-100, 52] <br>\n",
    "c) [-600, 301] <br>\n",
    "d) [-599, 301] <br>\n",
    "e) What is the condition number of A? "
   ]
  },
  {
   "attachments": {},
   "cell_type": "markdown",
   "metadata": {},
   "source": [
    "### **Problem 3:** Setting up and solving a linear system\n",
    "Imagine we have a 1 m long thin metal rod heated to $ 100^{\\circ} C $ on the left side and cooled to $ 0^{\\circ} C $ on the right. We want to know the temperature every 10 cm from the left end to the right end of the rod. <br><br>\n",
    "a) First, break down the rod into equal 10 cm increments as shown below. How many unknowns are there? <br>\n",
    "b) Use this formula to find the temperature at each point. Write a system of equations for each unknown. $$ T_1 = \\frac{T_0 + T_2}{2} $$\n",
    "c) Solve the system at each unknown using $ PA = LU $ decomposition. <br>\n",
    "d) Use the $ PA = LU $ factorization to find the temperature at each node if the left side is held at $ 50^{\\circ} C $ and the right side is $ 20^{\\circ} C $."
   ]
  },
  {
   "cell_type": "code",
   "execution_count": 7,
   "metadata": {},
   "outputs": [
    {
     "name": "stdout",
     "output_type": "stream",
     "text": [
      "[[nan]\n",
      " [nan]\n",
      " [nan]\n",
      " [nan]\n",
      " [nan]\n",
      " [nan]\n",
      " [nan]\n",
      " [nan]\n",
      " [nan]]\n",
      "[[nan]\n",
      " [nan]\n",
      " [nan]\n",
      " [nan]\n",
      " [nan]\n",
      " [nan]\n",
      " [nan]\n",
      " [nan]\n",
      " [nan]]\n"
     ]
    },
    {
     "name": "stderr",
     "output_type": "stream",
     "text": [
      "/var/folders/w2/jd0dpx7s1rn5zgnb46fy50cm0000gn/T/ipykernel_3836/1965338940.py:3: LinAlgWarning: Diagonal number 9 is exactly zero. Singular matrix.\n",
      "  LUA, PivA = lu_factor(A)\n"
     ]
    }
   ],
   "source": [
    "A = np.array([2,-1,0,0,0,0,0,0,0,-1,-2,-1,0,0,0,0,0,0,0,-1,2,-1,0,0,0,0,0,0,0,-1,2,-1,0,0,0,0,0,0,0,-1,2,-1,0,0,0,0,0,0,0,-1,2,-1,0,0,0,0,0,0,0,0,-1,2,-1,0,0,0,0,0,0,-1,2,-1,0,0,0,0,0,0,0,-1,2]).reshape([9,9])\n",
    "b = np.array([100,0,0,0,0,0,0,0,0]).reshape([9,1])\n",
    "LUA, PivA = lu_factor(A)\n",
    "x = lu_solve((LUA,PivA), b)\n",
    "print(x) #rod at 100C on left\n",
    "bb = np.array([20,0,0,0,0,0,0,0,0]).reshape([9,1])\n",
    "xx = lu_solve((LUA,PivA),bb)\n",
    "print(xx) #rod at 50C on left and 20C on right"
   ]
  },
  {
   "attachments": {},
   "cell_type": "markdown",
   "metadata": {},
   "source": [
    "### **Problem 4:** $ PA = LU $ Factorization\n",
    "Solve the system by finding the $ PA = LU $ factorization and then carrying out the two-step back substitution.\n",
    "$$ \\begin{pmatrix} 3 & 1 & 2 \\\\ 6 & 3 & 4 \\\\ 3 & 1 & 5 \\end{pmatrix} \\begin{pmatrix} x_1 \\\\ x_2 \\\\ x_3 \\end{pmatrix} = \\begin{pmatrix} 0 \\\\ 1 \\\\ 3 \\end{pmatrix} $$"
   ]
  },
  {
   "attachments": {},
   "cell_type": "markdown",
   "metadata": {},
   "source": [
    "### **Problem 5:** Solving linear systems with an ill-conditioned matrix\n",
    "Let $ H $ denote the $ n $ x $ n $ Hilbert matrix, whose $ (i,j) $ entry is $ H_i,_j = \\frac{1}{i + j - 1} $. Use a built-in method to solve $ H\\vec{x} = \\vec{b} $, where $\\vec{b}$ is the vector of all ones, for $n = 5$, $n = 10$, and $n = 15$. Find each of the condition numbers of each Hilbert matrix, as well."
   ]
  },
  {
   "cell_type": "code",
   "execution_count": 8,
   "metadata": {},
   "outputs": [
    {
     "name": "stdout",
     "output_type": "stream",
     "text": [
      "Solution for n=5:\n",
      " [[    5.        ]\n",
      " [ -120.        ]\n",
      " [  630.        ]\n",
      " [-1120.00000001]\n",
      " [  630.        ]]\n",
      "Solution for n=10:\n",
      " [[      -9.99982337]\n",
      " [     989.98462136]\n",
      " [  -23759.6706349 ]\n",
      " [  240236.99215467]\n",
      " [-1261245.59668115]\n",
      " [ 3783740.26704767]\n",
      " [-6726654.60603584]\n",
      " [ 7001216.62539424]\n",
      " [-3938186.64337611]\n",
      " [  923772.64719902]]\n",
      "Solution for n=15:\n",
      " [[ 1.30605454e+01]\n",
      " [-1.91518043e+03]\n",
      " [ 6.81385554e+04]\n",
      " [-1.02090629e+06]\n",
      " [ 7.89148860e+06]\n",
      " [-3.39557552e+07]\n",
      " [ 7.85050678e+07]\n",
      " [-6.12057325e+07]\n",
      " [-1.50759285e+08]\n",
      " [ 4.84649789e+08]\n",
      " [-5.78785639e+08]\n",
      " [ 2.86377328e+08]\n",
      " [ 3.50544305e+07]\n",
      " [-9.52825111e+07]\n",
      " [ 2.84656739e+07]]\n"
     ]
    }
   ],
   "source": [
    "h5 = hilbert(5)\n",
    "h10 = hilbert(10)\n",
    "h15 = hilbert(15)\n",
    "\n",
    "LU5, piv5 = lu_factor(h5)\n",
    "b5 = np.ones((5,1))\n",
    "x5 = lu_solve((LU5, piv5), b5)\n",
    "np.set_printoptions(suppress=True)\n",
    "print(\"Solution for n=5:\\n\",x5)\n",
    "\n",
    "LU10, piv10 = lu_factor(h10)\n",
    "b10 = np.ones((10,1))\n",
    "x10 = lu_solve((LU10, piv10), b10)\n",
    "np.set_printoptions(suppress=True)\n",
    "print(\"Solution for n=10:\\n\",x10)\n",
    "\n",
    "LU15, piv15 = lu_factor(h15)\n",
    "b15 = np.ones((15,1))\n",
    "x15 = lu_solve((LU15, piv15), b15)\n",
    "np.set_printoptions(suppress=True)\n",
    "print(\"Solution for n=15:\\n\",x15)"
   ]
  }
 ],
 "metadata": {
  "kernelspec": {
   "display_name": "Python 3",
   "language": "python",
   "name": "python3"
  },
  "language_info": {
   "codemirror_mode": {
    "name": "ipython",
    "version": 3
   },
   "file_extension": ".py",
   "mimetype": "text/x-python",
   "name": "python",
   "nbconvert_exporter": "python",
   "pygments_lexer": "ipython3",
   "version": "3.10.5"
  },
  "orig_nbformat": 4,
  "vscode": {
   "interpreter": {
    "hash": "7e1998ff7f8aa20ada591c520b972326324e5ea05489af9e422744c7c09f6dad"
   }
  }
 },
 "nbformat": 4,
 "nbformat_minor": 2
}
