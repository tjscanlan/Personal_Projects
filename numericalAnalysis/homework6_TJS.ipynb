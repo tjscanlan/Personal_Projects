{
 "cells": [
  {
   "attachments": {},
   "cell_type": "markdown",
   "metadata": {},
   "source": [
    "## **Homework 6:** Direct Methods for Linear Systems\n",
    "TJ Scanlan<br>*Merrimack College*<br>*MTH3725 Numerical Analysis*<br>*Spring 2023*"
   ]
  },
  {
   "cell_type": "code",
   "execution_count": 2,
   "metadata": {},
   "outputs": [],
   "source": [
    "#importing np for matrix algebra, scipy for matrix manipulation and system solving\n",
    "import numpy as np\n",
    "from scipy.linalg import lu, lu_factor, lu_solve"
   ]
  },
  {
   "attachments": {},
   "cell_type": "markdown",
   "metadata": {},
   "source": [
    "### **Problem 1:** Partial pivoting and finite-digit arithmetic\n",
    "Use Gaussian elimination without partial pivoting, then with partial pivoting, to solve the following system. ***After each intermediate step, round to three decimal places.*** $$ 0.03x_1 + 58.9x_2 = 59.2 $$ $$ 5.31x_1 - 6.10x_2 = 47.0 $$"
   ]
  },
  {
   "attachments": {},
   "cell_type": "markdown",
   "metadata": {},
   "source": [
    "### **Problem 2:** Error and condition numbers\n",
    "Find the relative forward and backward errors and error magnification factors for the following approximations of the system $$ x_1 + 2x_2 = 3 $$ $$ 2x_1 + 4.01x_2 = 6.01 $$\n",
    "a) [-10, 6] <br>\n",
    "b) [-100, 52] <br>\n",
    "c) [-600, 301] <br>\n",
    "d) [-599, 301] <br>\n",
    "e) What is the condition number of A? "
   ]
  },
  {
   "attachments": {},
   "cell_type": "markdown",
   "metadata": {},
   "source": [
    "### **Problem 3:** Setting up and solving a linear system\n",
    "Imagine we have a 1 m long thin metal rod heated to $ 100^{\\circ} C $ on the left side and cooled to $ 0^{\\circ} C $ on the right. We want to know the temperature every 10 cm from the left end to the right end of the rod. <br><br>\n",
    "a) First, break down the rod into equal 10 cm increments as shown below. How many unknowns are there? <br>\n",
    "b) Use this formula to find the temperature at each point. Write a system of equations for each unknown. $$ T_1 = \\frac{T_0 + T_2}{2} $$\n",
    "c) Solve the system at each unknown using $ PA = LU $ decomposition. <br>\n",
    "d) Use the $ PA = LU $ factorization to find the temperature at each node if the left side is held at $ 50^{\\circ} C $ and the right side is $ 20^{\\circ} C $."
   ]
  },
  {
   "attachments": {},
   "cell_type": "markdown",
   "metadata": {},
   "source": [
    "### **Problem 4:** $ PA = LU $ Factorization\n",
    "Solve the system by finding the $ PA = LU $ factorization and then carrying out the two-step back substitution.\n",
    "$$ \\begin{pmatrix} 3 & 1 & 2 \\\\ 6 & 3 & 4 \\\\ 3 & 1 & 5 \\end{pmatrix} \\begin{pmatrix} x_1 \\\\ x_2 \\\\ x_3 \\end{pmatrix} = \\begin{pmatrix} 0 \\\\ 1 \\\\ 3 \\end{pmatrix} $$"
   ]
  },
  {
   "attachments": {},
   "cell_type": "markdown",
   "metadata": {},
   "source": [
    "### **Problem 5:** Solving linear systems with an ill-conditioned matrix\n",
    "Let $ H $ denote the $ n $ x $ n $ Hilbert matrix, whose $ (i,j) $ entry is $ H_i,_j = \\frac{1}{i + j - 1} $. Use a built-in method to solve $ H\\vec{x} = \\vec{b} $, where $\\vec{b}$ is the vector of all ones, for $n = 5$, $n = 10$, and $n = 15$. Find each of the condition numbers of each Hilbert matrix, as well."
   ]
  }
 ],
 "metadata": {
  "kernelspec": {
   "display_name": "Python 3",
   "language": "python",
   "name": "python3"
  },
  "language_info": {
   "codemirror_mode": {
    "name": "ipython",
    "version": 3
   },
   "file_extension": ".py",
   "mimetype": "text/x-python",
   "name": "python",
   "nbconvert_exporter": "python",
   "pygments_lexer": "ipython3",
   "version": "3.10.5 (v3.10.5:f377153967, Jun  6 2022, 12:36:10) [Clang 13.0.0 (clang-1300.0.29.30)]"
  },
  "orig_nbformat": 4,
  "vscode": {
   "interpreter": {
    "hash": "7e1998ff7f8aa20ada591c520b972326324e5ea05489af9e422744c7c09f6dad"
   }
  }
 },
 "nbformat": 4,
 "nbformat_minor": 2
}
