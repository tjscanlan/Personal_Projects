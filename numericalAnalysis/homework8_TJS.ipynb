{
  "cells": [
    {
      "attachments": {},
      "cell_type": "markdown",
      "metadata": {
        "id": "Fe91tIsrY1Eq"
      },
      "source": [
        "#### **Name:** TJ Scanlan"
      ]
    },
    {
      "cell_type": "markdown",
      "metadata": {
        "id": "Vdis2TWLWF98"
      },
      "source": [
        "## **Homework 8: Numerical Differentiation and Quadrature**\n",
        "\n",
        "See online documentation for the `scipy.integrate` library here: https://docs.scipy.org/doc/scipy/tutorial/integrate.html"
      ]
    },
    {
      "attachments": {},
      "cell_type": "markdown",
      "metadata": {},
      "source": [
        "##### **Importing Libraries**"
      ]
    },
    {
      "cell_type": "code",
      "execution_count": 4,
      "metadata": {},
      "outputs": [],
      "source": [
        "import numpy as np\n",
        "from scipy.integrate import quad, fixed_quad, quadrature, trapezoid, simpson\n",
        "from scipy.linalg import lu, lu_solve, lu_factor\n",
        "from tabulate import tabulate"
      ]
    },
    {
      "cell_type": "markdown",
      "metadata": {
        "id": "540x6W_gWNnZ"
      },
      "source": [
        "\n",
        "\n",
        "---\n",
        "\n",
        "\n",
        "# Problem 1\n",
        "\n",
        "Develop a second-order method for approximating $f'(x)$ that uses the data $f(x-2h)$, $f(x)$, and $f(x+3h)$ only (including error term)."
      ]
    },
    {
      "cell_type": "markdown",
      "metadata": {
        "id": "K4Q-UlrRW19V"
      },
      "source": [
        "\n",
        "\n",
        "---\n",
        "\n",
        "\n",
        "# Problem 2\n",
        "\n",
        "Compare two-point forward difference and three-point centered difference formulas for $f' (0)$, where $f(x) = \\cos x - \\sin x$ and values of $h$ range from $10^{-1}$ to $10^{-15}$ by making a table and plot of the error in both methods for each of the stepsize values. For each method, what value of $h$ gives minimum error?\n"
      ]
    },
    {
      "cell_type": "code",
      "execution_count": 5,
      "metadata": {
        "id": "TvXqzfg_XEtI"
      },
      "outputs": [
        {
          "name": "stdout",
          "output_type": "stream",
          "text": [
            "     h    two-point    two-point error    three-point    three-point error\n",
            "------  -----------  -----------------  -------------  -------------------\n",
            "0.1       -1.04829         0.0482925        -0.998334          0.00166583\n",
            "0.01      -1.00498         0.00498329       -0.999983          1.66666e-05\n",
            "0.001     -1.0005          0.000499833      -1                 1.66667e-07\n",
            "0.0001    -1.00005         4.99983e-05      -1                 1.66711e-09\n",
            "1e-05     -1               4.99998e-06      -1                 1.56534e-11\n",
            "1e-06     -1               5.00073e-07      -1                 2.67555e-11\n",
            "1e-07     -1               4.94337e-08      -1                 5.26356e-10\n",
            "1e-08     -1               5.02476e-09      -1                 5.26356e-10\n",
            "1e-09     -1               2.82819e-08      -1                 2.72292e-08\n",
            "1e-10     -1               8.27404e-08      -1                 8.27404e-08\n",
            "1e-11     -1               8.27404e-08      -1                 8.27404e-08\n",
            "1e-12     -0.999978        2.21217e-05      -1.00003           3.33894e-05\n",
            "1e-13     -1.00031         0.000310945      -0.999756          0.000244166\n",
            "1e-14     -0.999201        0.000799278      -0.999201          0.000799278\n",
            "1e-15     -0.999201        0.000799278      -1.05471           0.0547119\n"
          ]
        }
      ],
      "source": [
        "def forward2pt_diff(f, x, h):\n",
        "  return (f(x+h)-f(x))/h\n",
        "\n",
        "def centered3pt_diff(f,x,h):\n",
        "  return (f(x+h)-f(x-h))/(2*h)\n",
        "\n",
        "f = lambda x: np.cos(x) - np.sin(x)\n",
        "x = 0\n",
        "results = []\n",
        "for i in range(1,16):\n",
        "  h = 10**(-i)\n",
        "  f2p = forward2pt_diff(f,x,h)\n",
        "  c3p = centered3pt_diff(f,x,h)\n",
        "  results.append([h, f2p, abs(-1 - f2p), c3p, abs(-1 - c3p)])\n",
        "\n",
        "print(tabulate(results, headers=[\"h\", \"two-point\", \"two-point error\", \"three-point\", \"three-point error\"]))"
      ]
    },
    {
      "cell_type": "markdown",
      "metadata": {
        "id": "sSPi9ySpXn_g"
      },
      "source": [
        "\n",
        "\n",
        "---\n",
        "\n",
        "\n",
        "## Problem 3\n",
        "\n",
        "The arc length of a curve $y=f(x)$ on an interval $[a,\\, b]$ is the definite integral\n",
        "\n",
        "$$\\int_a^b \\sqrt{1+(f'(x))^2}\\, dx$$\n",
        "\n",
        "Use the built-in SciPy methods for quadrature to approximate the length of the curve $y=\\tan x$ on the interval $[0,\\, \\pi/4]$ to at least six correct decimal places."
      ]
    },
    {
      "cell_type": "code",
      "execution_count": 6,
      "metadata": {
        "id": "Jbih5HaDX7Zj"
      },
      "outputs": [
        {
          "data": {
            "text/plain": [
              "1.2779780596248183"
            ]
          },
          "execution_count": 6,
          "metadata": {},
          "output_type": "execute_result"
        }
      ],
      "source": [
        "L = lambda x: np.sqrt(1+(1/np.cos(x))**4)\n",
        "\n",
        "#quad(L, 0, np.pi/4) #uses fortran library QUADPACK (adaptive)\n",
        "#fixed_quad(L, 0, np.pi/4) #fied Gaussian quadrature (default is n=5)\n",
        "quadrature(L,0,np.pi/4) #adaptive Gaussian quadrature to a fixed tolerance\n",
        "\n",
        "x = np.linspace(0, np.pi/4, num=1000)\n",
        "func_evals = L(x)\n",
        "\n",
        "#trapezoid(func_evals, x)\n",
        "simpson(func_evals, x)"
      ]
    },
    {
      "cell_type": "markdown",
      "metadata": {
        "id": "TIoj3xORX8rn"
      },
      "source": [
        "\n",
        "\n",
        "---\n",
        "\n",
        "\n",
        "# Problem 4\n",
        "\n",
        "Find $c_1$, $c_2$, and $c_3$ such that the rule\n",
        "\n",
        "$$\n",
        "\\int_0^1 f(x)\\, d\\!x \\approx c_1f(0)+c_2f(0.5)+c_3f(1)\n",
        "$$\n",
        "\n",
        "has degree of precision greater than 1. (Hint: Substitute power functions of increasing degree.)"
      ]
    },
    {
      "attachments": {},
      "cell_type": "markdown",
      "metadata": {
        "id": "sS7dfkxGYHrE"
      },
      "source": [
        "\n",
        "\n",
        "---\n",
        "\n",
        "\n",
        "## Problem 5\n",
        "\n",
        "Compute the improper integral:\n",
        "\n",
        "$$\n",
        "\\int_0^1 \\frac{\\arctan x}{x}\\, dx\n",
        "$$"
      ]
    },
    {
      "cell_type": "code",
      "execution_count": 8,
      "metadata": {
        "id": "wzmegMMyYYlU"
      },
      "outputs": [
        {
          "data": {
            "text/plain": [
              "(0.915965594177219, 1.0169260924200108e-14)"
            ]
          },
          "execution_count": 8,
          "metadata": {},
          "output_type": "execute_result"
        }
      ],
      "source": [
        "J = lambda x: np.arctan(x)/x\n",
        "quad(J, 0, 1)"
      ]
    },
    {
      "cell_type": "code",
      "execution_count": 9,
      "metadata": {},
      "outputs": [
        {
          "data": {
            "text/plain": [
              "(0.9159655825350427, None)"
            ]
          },
          "execution_count": 9,
          "metadata": {},
          "output_type": "execute_result"
        }
      ],
      "source": [
        "fixed_quad(J, 0, 1)"
      ]
    },
    {
      "cell_type": "code",
      "execution_count": 10,
      "metadata": {},
      "outputs": [
        {
          "data": {
            "text/plain": [
              "(0.915965593588102, 1.1053059356669337e-08)"
            ]
          },
          "execution_count": 10,
          "metadata": {},
          "output_type": "execute_result"
        }
      ],
      "source": [
        "quadrature(J, 0, 1)"
      ]
    }
  ],
  "metadata": {
    "colab": {
      "provenance": []
    },
    "kernelspec": {
      "display_name": "Python 3",
      "language": "python",
      "name": "python3"
    },
    "language_info": {
      "codemirror_mode": {
        "name": "ipython",
        "version": 3
      },
      "file_extension": ".py",
      "mimetype": "text/x-python",
      "name": "python",
      "nbconvert_exporter": "python",
      "pygments_lexer": "ipython3",
      "version": "3.11.1 (v3.11.1:a7a450f84a, Dec  6 2022, 15:24:06) [Clang 13.0.0 (clang-1300.0.29.30)]"
    },
    "vscode": {
      "interpreter": {
        "hash": "aee8b7b246df8f9039afb4144a1f6fd8d2ca17a180786b69acc140d282b71a49"
      }
    }
  },
  "nbformat": 4,
  "nbformat_minor": 0
}
