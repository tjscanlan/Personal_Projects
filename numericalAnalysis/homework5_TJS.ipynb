{
 "cells": [
  {
   "attachments": {},
   "cell_type": "markdown",
   "metadata": {},
   "source": [
    "# **Homework 5: Vectors and Matrices**"
   ]
  },
  {
   "attachments": {},
   "cell_type": "markdown",
   "metadata": {},
   "source": [
    "# TJ Scanlan"
   ]
  },
  {
   "cell_type": "code",
   "execution_count": 1,
   "metadata": {},
   "outputs": [],
   "source": [
    "import numpy as np"
   ]
  },
  {
   "attachments": {},
   "cell_type": "markdown",
   "metadata": {},
   "source": [
    "Problem #1"
   ]
  },
  {
   "cell_type": "code",
   "execution_count": 2,
   "metadata": {},
   "outputs": [
    {
     "name": "stdout",
     "output_type": "stream",
     "text": [
      "A:\n",
      "[[ 1  3  5  7]\n",
      " [ 2  4  6  8]\n",
      " [-3 -2 -1  0]]\n",
      "Dimensions of A: 12\n",
      "\n",
      "u:\n",
      "[[10]\n",
      " [20]\n",
      " [30]]\n",
      "Dimensions of u: 3\n"
     ]
    }
   ],
   "source": [
    "#1a)\n",
    "A = np.array([[1,3,5,7],[2,4,6,8],[-3,-2,-1,0]])\n",
    "u = np.array([[10],[20],[30]])\n",
    "print(\"A:\")\n",
    "print(A)\n",
    "print(\"Dimensions of A:\", np.size(A))\n",
    "print(\"\")\n",
    "print(\"u:\")\n",
    "print(u)\n",
    "print(\"Dimensions of u:\", np.size(u))"
   ]
  },
  {
   "cell_type": "code",
   "execution_count": 3,
   "metadata": {},
   "outputs": [
    {
     "name": "stdout",
     "output_type": "stream",
     "text": [
      "First column of A:\n",
      " [ 1  2 -3]\n"
     ]
    }
   ],
   "source": [
    "#1b\n",
    "print(\"First column of A:\\n\", A[:,0])"
   ]
  },
  {
   "cell_type": "code",
   "execution_count": 4,
   "metadata": {},
   "outputs": [
    {
     "name": "stdout",
     "output_type": "stream",
     "text": [
      "First row of A:\n",
      " [1 3 5 7]\n"
     ]
    }
   ],
   "source": [
    "#1c\n",
    "print(\"First row of A:\\n\", A[0])"
   ]
  },
  {
   "cell_type": "code",
   "execution_count": 5,
   "metadata": {},
   "outputs": [
    {
     "name": "stdout",
     "output_type": "stream",
     "text": [
      "First 2 entries of u:\n",
      " [[10]\n",
      " [20]]\n"
     ]
    }
   ],
   "source": [
    "#1d\n",
    "print(\"First 2 entries of u:\\n\", u[:2])"
   ]
  },
  {
   "cell_type": "code",
   "execution_count": 6,
   "metadata": {},
   "outputs": [
    {
     "name": "stdout",
     "output_type": "stream",
     "text": [
      "Last 2 entries of u:\n",
      " [[20]\n",
      " [30]]\n"
     ]
    }
   ],
   "source": [
    "#1e\n",
    "print(\"Last 2 entries of u:\\n\", u[1:])"
   ]
  },
  {
   "cell_type": "code",
   "execution_count": 7,
   "metadata": {},
   "outputs": [
    {
     "name": "stdout",
     "output_type": "stream",
     "text": [
      "Lower left submatrix of A:\n",
      " [[ 2  4]\n",
      " [-3 -2]]\n"
     ]
    }
   ],
   "source": [
    "#1f\n",
    "subA = A[np.ix_([1,2],[0,1])]\n",
    "print(\"Lower left submatrix of A:\\n\", subA)"
   ]
  },
  {
   "cell_type": "code",
   "execution_count": 8,
   "metadata": {},
   "outputs": [
    {
     "name": "stdout",
     "output_type": "stream",
     "text": [
      "Middle two elements of middle row of A:\n",
      " [[4 6]]\n"
     ]
    }
   ],
   "source": [
    "#1g\n",
    "midA = A[np.ix_([1],[1,2])]\n",
    "print(\"Middle two elements of middle row of A:\\n\", midA)"
   ]
  },
  {
   "cell_type": "markdown",
   "metadata": {},
   "source": [
    "Problem #2"
   ]
  },
  {
   "attachments": {},
   "cell_type": "markdown",
   "metadata": {},
   "source": [
    "*insert work*"
   ]
  },
  {
   "attachments": {},
   "cell_type": "markdown",
   "metadata": {},
   "source": [
    "Problem #3"
   ]
  },
  {
   "attachments": {},
   "cell_type": "markdown",
   "metadata": {},
   "source": [
    "*insert work*"
   ]
  },
  {
   "attachments": {},
   "cell_type": "markdown",
   "metadata": {},
   "source": [
    "Problem #4"
   ]
  },
  {
   "cell_type": "code",
   "execution_count": 20,
   "metadata": {},
   "outputs": [
    {
     "name": "stdout",
     "output_type": "stream",
     "text": [
      "i. [[-4]\n",
      " [ 3]\n",
      " [ 9]]\n",
      "ii. [[-8]\n",
      " [ 3]\n",
      " [-1]]\n",
      "iii. [[ -6]\n",
      " [  0]\n",
      " [-15]]\n",
      "iv. [[ 7 -1]\n",
      " [ 1  5]]\n",
      "v. B+C non-calculable\n",
      "vi. [[ 4.  -1. ]\n",
      " [ 0.5  1.5]]\n",
      "vii. [[-10   4]\n",
      " [ -1   1]]\n",
      "viii. [[ 1 -4]\n",
      " [ 3 -1]\n",
      " [ 0  1]]\n"
     ]
    }
   ],
   "source": [
    "u = np.array([[2],[0],[5]])\n",
    "v = np.array([[-6],[3],[4]])\n",
    "A = np.array([[-1,1],[0,2]])\n",
    "B = np.array([[8,-2],[1,3]])\n",
    "C = np.array([[1,3,0],[-4,-1,1]])\n",
    "print(\"i.\", u + v)\n",
    "print(\"ii.\",v - u)\n",
    "print(\"iii.\",(-3)*u)\n",
    "print(\"iv.\", A+B)\n",
    "print(\"v. B+C non-calculable\")\n",
    "print(\"vi.\", (0.5)*B)\n",
    "print(\"vii.\", (2*A)-B)\n",
    "print(\"viii.\", C.transpose())\n"
   ]
  },
  {
   "attachments": {},
   "cell_type": "markdown",
   "metadata": {},
   "source": [
    "Problem #5"
   ]
  },
  {
   "cell_type": "code",
   "execution_count": 39,
   "metadata": {},
   "outputs": [
    {
     "name": "stdout",
     "output_type": "stream",
     "text": [
      "i. [[7 2]\n",
      " [4 1]]\n",
      "ii. [[4 3 7]\n",
      " [3 2 5]\n",
      " [1 1 2]]\n",
      "iv. [[ 6  4 10]\n",
      " [ 0 -1 -1]]\n",
      "vi. [[14 10]\n",
      " [-5 -1]]\n",
      "vii. [[4]\n",
      " [2]\n",
      " [2]]\n",
      "viii. [[ 4]\n",
      " [-4]]\n"
     ]
    }
   ],
   "source": [
    "D = np.matrix([[1,1,2],[1,0,1]])\n",
    "E = np.matrix([[3,1],[2,1],[1,0]])\n",
    "F = np.matrix([[4,2],[-1,1]])\n",
    "x = np.array([[2],[-2]])\n",
    "print(\"i.\", D*E)\n",
    "print(\"ii.\", E*D)\n",
    "#print(\"iii.\", D*F)\n",
    "print(\"iv.\", F*D)\n",
    "#print(\"v.\", D*D)\n",
    "print(\"vi.\", F**2)\n",
    "print(\"vii.\", E*x)\n",
    "print(\"viii.\", F*x)"
   ]
  }
 ],
 "metadata": {
  "kernelspec": {
   "display_name": "Python 3",
   "language": "python",
   "name": "python3"
  },
  "language_info": {
   "codemirror_mode": {
    "name": "ipython",
    "version": 3
   },
   "file_extension": ".py",
   "mimetype": "text/x-python",
   "name": "python",
   "nbconvert_exporter": "python",
   "pygments_lexer": "ipython3",
   "version": "3.10.5 (v3.10.5:f377153967, Jun  6 2022, 12:36:10) [Clang 13.0.0 (clang-1300.0.29.30)]"
  },
  "orig_nbformat": 4,
  "vscode": {
   "interpreter": {
    "hash": "7e1998ff7f8aa20ada591c520b972326324e5ea05489af9e422744c7c09f6dad"
   }
  }
 },
 "nbformat": 4,
 "nbformat_minor": 2
}
