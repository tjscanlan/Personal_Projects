{
 "cells": [
  {
   "attachments": {},
   "cell_type": "markdown",
   "metadata": {},
   "source": [
    "# **Implementing LU-factorization in Python**"
   ]
  },
  {
   "attachments": {},
   "cell_type": "markdown",
   "metadata": {},
   "source": [
    "Using Python to solve $ A \\vec{x} = \\vec{b} $ using LU-factorization...\n",
    "$$ A = \\begin{pmatrix} -1 & 0 & 1 \\\\ 2 & 1 & 1 \\\\ -1 & 2 & 0 \\end{pmatrix}, \\:\\vec{b} = \\begin{pmatrix} -2 \\\\ 17 \\\\ 3 \\end{pmatrix}$$\n",
    "LU-factorization comes as a built-in package in the ***.linalg* library of the SciPy package**. Note how we write the A matrix a little differently. The **.reshape()** command allows us to write the matrix entries as one list within np.array where the size of the size of the matrix is a list inside the command.\n"
   ]
  },
  {
   "cell_type": "code",
   "execution_count": 13,
   "metadata": {},
   "outputs": [],
   "source": [
    "#Importing packages\n",
    "import numpy as np\n",
    "from scipy.linalg import lu_factor, lu_solve, lu"
   ]
  },
  {
   "cell_type": "code",
   "execution_count": 4,
   "metadata": {},
   "outputs": [],
   "source": [
    "A = np.array([-1,0,1,2,1,1,-1,2,0]).reshape([3,3])"
   ]
  },
  {
   "cell_type": "code",
   "execution_count": 11,
   "metadata": {},
   "outputs": [
    {
     "name": "stdout",
     "output_type": "stream",
     "text": [
      "LU:\n",
      " [[ 2.   1.   1. ]\n",
      " [-0.5  2.5  0.5]\n",
      " [-0.5  0.2  1.4]]\n",
      "\n",
      "Piv:\n",
      " [1 2 2]\n"
     ]
    }
   ],
   "source": [
    "LU, piv = lu_factor(A) #make sure to define LU in capital letters to avoid a 'callable' error!!\n",
    "print(\"LU:\\n\",LU)\n",
    "print(\"\\nPiv:\\n\", piv)"
   ]
  },
  {
   "cell_type": "code",
   "execution_count": 12,
   "metadata": {},
   "outputs": [
    {
     "name": "stdout",
     "output_type": "stream",
     "text": [
      "x:\n",
      " [5. 4. 3.]\n"
     ]
    }
   ],
   "source": [
    "b = np.array([-2,17,3]) #no need for .reshape() since b is a vector\n",
    "x = lu_solve((LU,piv),b)\n",
    "print(\"x:\\n\", x)"
   ]
  },
  {
   "attachments": {},
   "cell_type": "markdown",
   "metadata": {},
   "source": [
    "**Using the *lu* package from the SciPy (linalg) library.**\n",
    "Note how the the \"p\" matrix here is different from the one we used in class notes. This is OK! It's still a permutation matrix, just the inverse of the one used in class."
   ]
  },
  {
   "cell_type": "code",
   "execution_count": 15,
   "metadata": {},
   "outputs": [
    {
     "name": "stdout",
     "output_type": "stream",
     "text": [
      "p:\n",
      " [[0. 0. 1.]\n",
      " [1. 0. 0.]\n",
      " [0. 1. 0.]] \n",
      "l:\n",
      " [[ 1.   0.   0. ]\n",
      " [-0.5  1.   0. ]\n",
      " [-0.5  0.2  1. ]] \n",
      "u:\n",
      " [[2.  1.  1. ]\n",
      " [0.  2.5 0.5]\n",
      " [0.  0.  1.4]]\n"
     ]
    }
   ],
   "source": [
    "p,l,u = lu(A)\n",
    "print(\"p:\\n\", p, \"\\nl:\\n\", l, \"\\nu:\\n\", u)"
   ]
  }
 ],
 "metadata": {
  "kernelspec": {
   "display_name": "Python 3",
   "language": "python",
   "name": "python3"
  },
  "language_info": {
   "codemirror_mode": {
    "name": "ipython",
    "version": 3
   },
   "file_extension": ".py",
   "mimetype": "text/x-python",
   "name": "python",
   "nbconvert_exporter": "python",
   "pygments_lexer": "ipython3",
   "version": "3.10.5"
  },
  "orig_nbformat": 4,
  "vscode": {
   "interpreter": {
    "hash": "7e1998ff7f8aa20ada591c520b972326324e5ea05489af9e422744c7c09f6dad"
   }
  }
 },
 "nbformat": 4,
 "nbformat_minor": 2
}
